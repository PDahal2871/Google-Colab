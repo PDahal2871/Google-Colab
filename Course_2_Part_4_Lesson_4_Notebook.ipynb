{
  "nbformat": 4,
  "nbformat_minor": 0,
  "metadata": {
    "accelerator": "GPU",
    "colab": {
      "name": "Copy of Course 2 - Part 4 - Lesson 4 - Notebook.ipynb",
      "provenance": [],
      "collapsed_sections": [],
      "toc_visible": true,
      "include_colab_link": true
    },
    "kernelspec": {
      "display_name": "Python 3",
      "name": "python3"
    }
  },
  "cells": [
    {
      "cell_type": "markdown",
      "metadata": {
        "id": "view-in-github",
        "colab_type": "text"
      },
      "source": [
        "<a href=\"https://colab.research.google.com/github/PDahal2871/Google-Colab/blob/master/Course_2_Part_4_Lesson_4_Notebook.ipynb\" target=\"_parent\"><img src=\"https://colab.research.google.com/assets/colab-badge.svg\" alt=\"Open In Colab\"/></a>"
      ]
    },
    {
      "cell_type": "markdown",
      "metadata": {
        "colab_type": "text",
        "id": "rX8mhOLljYeM"
      },
      "source": [
        "##### Copyright 2019 The TensorFlow Authors."
      ]
    },
    {
      "cell_type": "code",
      "metadata": {
        "cellView": "form",
        "colab_type": "code",
        "id": "BZSlp3DAjdYf",
        "colab": {}
      },
      "source": [
        "#@title Licensed under the Apache License, Version 2.0 (the \"License\");\n",
        "# you may not use this file except in compliance with the License.\n",
        "# You may obtain a copy of the License at\n",
        "#\n",
        "# https://www.apache.org/licenses/LICENSE-2.0\n",
        "#\n",
        "# Unless required by applicable law or agreed to in writing, software\n",
        "# distributed under the License is distributed on an \"AS IS\" BASIS,\n",
        "# WITHOUT WARRANTIES OR CONDITIONS OF ANY KIND, either express or implied.\n",
        "# See the License for the specific language governing permissions and\n",
        "# limitations under the License."
      ],
      "execution_count": 0,
      "outputs": []
    },
    {
      "cell_type": "code",
      "metadata": {
        "colab_type": "code",
        "id": "RXZT2UsyIVe_",
        "outputId": "6a585408-fa2f-4b2b-d311-4739a948939f",
        "colab": {
          "base_uri": "https://localhost:8080/",
          "height": 391
        }
      },
      "source": [
        "!wget --no-check-certificate \\\n",
        "    https://storage.googleapis.com/laurencemoroney-blog.appspot.com/horse-or-human.zip \\\n",
        "    -O /tmp/horse-or-human.zip\n",
        "\n",
        "!wget --no-check-certificate \\\n",
        "    https://storage.googleapis.com/laurencemoroney-blog.appspot.com/validation-horse-or-human.zip \\\n",
        "    -O /tmp/validation-horse-or-human.zip\n",
        "  \n",
        "import os\n",
        "import zipfile\n",
        "\n",
        "local_zip = '/tmp/horse-or-human.zip'\n",
        "zip_ref = zipfile.ZipFile(local_zip, 'r')\n",
        "zip_ref.extractall('/tmp/horse-or-human')\n",
        "local_zip = '/tmp/validation-horse-or-human.zip'\n",
        "zip_ref = zipfile.ZipFile(local_zip, 'r')\n",
        "zip_ref.extractall('/tmp/validation-horse-or-human')\n",
        "zip_ref.close()\n",
        "# Directory with our training horse pictures\n",
        "train_horse_dir = os.path.join('/tmp/horse-or-human/horses')\n",
        "\n",
        "# Directory with our training human pictures\n",
        "train_human_dir = os.path.join('/tmp/horse-or-human/humans')\n",
        "\n",
        "# Directory with our training horse pictures\n",
        "validation_horse_dir = os.path.join('/tmp/validation-horse-or-human/horses')\n",
        "\n",
        "# Directory with our training human pictures\n",
        "validation_human_dir = os.path.join('/tmp/validation-horse-or-human/humans')"
      ],
      "execution_count": 0,
      "outputs": [
        {
          "output_type": "stream",
          "text": [
            "--2020-05-03 00:51:36--  https://storage.googleapis.com/laurencemoroney-blog.appspot.com/horse-or-human.zip\n",
            "Resolving storage.googleapis.com (storage.googleapis.com)... 108.177.126.128, 2a00:1450:4013:c01::80\n",
            "Connecting to storage.googleapis.com (storage.googleapis.com)|108.177.126.128|:443... connected.\n",
            "HTTP request sent, awaiting response... 200 OK\n",
            "Length: 149574867 (143M) [application/zip]\n",
            "Saving to: ‘/tmp/horse-or-human.zip’\n",
            "\n",
            "/tmp/horse-or-human 100%[===================>] 142.65M   114MB/s    in 1.2s    \n",
            "\n",
            "2020-05-03 00:51:37 (114 MB/s) - ‘/tmp/horse-or-human.zip’ saved [149574867/149574867]\n",
            "\n",
            "--2020-05-03 00:51:40--  https://storage.googleapis.com/laurencemoroney-blog.appspot.com/validation-horse-or-human.zip\n",
            "Resolving storage.googleapis.com (storage.googleapis.com)... 108.177.119.128, 2a00:1450:4013:c03::80\n",
            "Connecting to storage.googleapis.com (storage.googleapis.com)|108.177.119.128|:443... connected.\n",
            "HTTP request sent, awaiting response... 200 OK\n",
            "Length: 11480187 (11M) [application/zip]\n",
            "Saving to: ‘/tmp/validation-horse-or-human.zip’\n",
            "\n",
            "/tmp/validation-hor 100%[===================>]  10.95M  --.-KB/s    in 0.08s   \n",
            "\n",
            "2020-05-03 00:51:40 (141 MB/s) - ‘/tmp/validation-horse-or-human.zip’ saved [11480187/11480187]\n",
            "\n"
          ],
          "name": "stdout"
        }
      ]
    },
    {
      "cell_type": "markdown",
      "metadata": {
        "colab_type": "text",
        "id": "5oqBkNBJmtUv"
      },
      "source": [
        "## Building a Small Model from Scratch\n",
        "\n",
        "But before we continue, let's start defining the model:\n",
        "\n",
        "Step 1 will be to import tensorflow."
      ]
    },
    {
      "cell_type": "code",
      "metadata": {
        "colab_type": "code",
        "id": "qvfZg3LQbD-5",
        "colab": {}
      },
      "source": [
        "import tensorflow as tf"
      ],
      "execution_count": 0,
      "outputs": []
    },
    {
      "cell_type": "markdown",
      "metadata": {
        "colab_type": "text",
        "id": "BnhYCP4tdqjC"
      },
      "source": [
        "We then add convolutional layers as in the previous example, and flatten the final result to feed into the densely connected layers."
      ]
    },
    {
      "cell_type": "markdown",
      "metadata": {
        "colab_type": "text",
        "id": "gokG5HKpdtzm"
      },
      "source": [
        "Finally we add the densely connected layers. \n",
        "\n",
        "Note that because we are facing a two-class classification problem, i.e. a *binary classification problem*, we will end our network with a [*sigmoid* activation](https://wikipedia.org/wiki/Sigmoid_function), so that the output of our network will be a single scalar between 0 and 1, encoding the probability that the current image is class 1 (as opposed to class 0)."
      ]
    },
    {
      "cell_type": "code",
      "metadata": {
        "colab_type": "code",
        "id": "PixZ2s5QbYQ3",
        "colab": {}
      },
      "source": [
        "model = tf.keras.models.Sequential([\n",
        "    # Note the input shape is the desired size of the image 300x300 with 3 bytes color\n",
        "    # This is the first convolution\n",
        "    tf.keras.layers.Conv2D(16, (3,3), activation='relu', input_shape=(300, 300, 3)),\n",
        "    tf.keras.layers.MaxPooling2D(2, 2),\n",
        "    # The second convolution\n",
        "    tf.keras.layers.Conv2D(32, (3,3), activation='relu'),\n",
        "    tf.keras.layers.MaxPooling2D(2,2),\n",
        "    # The third convolution\n",
        "    tf.keras.layers.Conv2D(64, (3,3), activation='relu'),\n",
        "    tf.keras.layers.MaxPooling2D(2,2),\n",
        "    # The fourth convolution\n",
        "    tf.keras.layers.Conv2D(64, (3,3), activation='relu'),\n",
        "    tf.keras.layers.MaxPooling2D(2,2),\n",
        "    # The fifth convolution\n",
        "    tf.keras.layers.Conv2D(64, (3,3), activation='relu'),\n",
        "    tf.keras.layers.MaxPooling2D(2,2),\n",
        "    # Flatten the results to feed into a DNN\n",
        "    tf.keras.layers.Flatten(),\n",
        "    # 512 neuron hidden layer\n",
        "    tf.keras.layers.Dense(512, activation='relu'),\n",
        "    # Only 1 output neuron. It will contain a value from 0-1 where 0 for 1 class ('horses') and 1 for the other ('humans')\n",
        "    tf.keras.layers.Dense(1, activation='sigmoid')\n",
        "])"
      ],
      "execution_count": 0,
      "outputs": []
    },
    {
      "cell_type": "code",
      "metadata": {
        "colab_type": "code",
        "id": "8DHWhFP_uhq3",
        "colab": {}
      },
      "source": [
        "from tensorflow.keras.optimizers import RMSprop\n",
        "\n",
        "model.compile(loss='binary_crossentropy',\n",
        "              optimizer=RMSprop(lr=1e-4),\n",
        "              metrics=['accuracy'])"
      ],
      "execution_count": 0,
      "outputs": []
    },
    {
      "cell_type": "code",
      "metadata": {
        "colab_type": "code",
        "id": "ClebU9NJg99G",
        "outputId": "198e87e1-1535-47ba-fd53-58d31bdef50e",
        "colab": {
          "base_uri": "https://localhost:8080/",
          "height": 51
        }
      },
      "source": [
        "from tensorflow.keras.preprocessing.image import ImageDataGenerator\n",
        "\n",
        "# All images will be rescaled by 1./255\n",
        "train_datagen = ImageDataGenerator(\n",
        "      rescale=1./255,\n",
        "      rotation_range=40,\n",
        "      width_shift_range=0.2,\n",
        "      height_shift_range=0.2,\n",
        "      shear_range=0.2,\n",
        "      zoom_range=0.2,\n",
        "      horizontal_flip=True,\n",
        "      fill_mode='nearest')\n",
        "\n",
        "validation_datagen = ImageDataGenerator(rescale=1/255)\n",
        "\n",
        "# Flow training images in batches of 128 using train_datagen generator\n",
        "train_generator = train_datagen.flow_from_directory(\n",
        "        '/tmp/horse-or-human/',  # This is the source directory for training images\n",
        "        target_size=(300, 300),  # All images will be resized to 150x150\n",
        "        batch_size=128,\n",
        "        # Since we use binary_crossentropy loss, we need binary labels\n",
        "        class_mode='binary')\n",
        "\n",
        "# Flow training images in batches of 128 using train_datagen generator\n",
        "validation_generator = validation_datagen.flow_from_directory(\n",
        "        '/tmp/validation-horse-or-human/',  # This is the source directory for training images\n",
        "        target_size=(300, 300),  # All images will be resized to 150x150\n",
        "        batch_size=32,\n",
        "        # Since we use binary_crossentropy loss, we need binary labels\n",
        "        class_mode='binary')"
      ],
      "execution_count": 0,
      "outputs": [
        {
          "output_type": "stream",
          "text": [
            "Found 1027 images belonging to 2 classes.\n",
            "Found 256 images belonging to 2 classes.\n"
          ],
          "name": "stdout"
        }
      ]
    },
    {
      "cell_type": "code",
      "metadata": {
        "colab_type": "code",
        "id": "Fb1_lgobv81m",
        "outputId": "737543ea-05b9-4d54-a45a-a1b0feb6062a",
        "colab": {
          "base_uri": "https://localhost:8080/",
          "height": 1000
        }
      },
      "source": [
        "history = model.fit(\n",
        "      train_generator,\n",
        "      steps_per_epoch=8,  \n",
        "      epochs=100,\n",
        "      verbose=1,\n",
        "      validation_data = validation_generator,\n",
        "      validation_steps=8)"
      ],
      "execution_count": 0,
      "outputs": [
        {
          "output_type": "stream",
          "text": [
            "Epoch 1/100\n",
            "8/8 [==============================] - 18s 2s/step - loss: 0.6700 - accuracy: 0.5703 - val_loss: 0.6347 - val_accuracy: 0.8008\n",
            "Epoch 2/100\n",
            "8/8 [==============================] - 21s 3s/step - loss: 0.6789 - accuracy: 0.5973 - val_loss: 0.6380 - val_accuracy: 0.5586\n",
            "Epoch 3/100\n",
            "8/8 [==============================] - 19s 2s/step - loss: 0.6016 - accuracy: 0.6707 - val_loss: 0.6621 - val_accuracy: 0.5352\n",
            "Epoch 4/100\n",
            "8/8 [==============================] - 19s 2s/step - loss: 0.5704 - accuracy: 0.7186 - val_loss: 0.6949 - val_accuracy: 0.4883\n",
            "Epoch 5/100\n",
            "8/8 [==============================] - 19s 2s/step - loss: 0.5686 - accuracy: 0.7130 - val_loss: 0.6477 - val_accuracy: 0.5547\n",
            "Epoch 6/100\n",
            "8/8 [==============================] - 19s 2s/step - loss: 0.5978 - accuracy: 0.7019 - val_loss: 0.6364 - val_accuracy: 0.5703\n",
            "Epoch 7/100\n",
            "8/8 [==============================] - 19s 2s/step - loss: 0.5462 - accuracy: 0.7164 - val_loss: 0.9786 - val_accuracy: 0.5078\n",
            "Epoch 8/100\n",
            "8/8 [==============================] - 19s 2s/step - loss: 0.5061 - accuracy: 0.7330 - val_loss: 1.1244 - val_accuracy: 0.4883\n",
            "Epoch 9/100\n",
            "8/8 [==============================] - 19s 2s/step - loss: 0.5810 - accuracy: 0.7519 - val_loss: 1.4638 - val_accuracy: 0.5000\n",
            "Epoch 10/100\n",
            "8/8 [==============================] - 21s 3s/step - loss: 0.5158 - accuracy: 0.7568 - val_loss: 1.1427 - val_accuracy: 0.5078\n",
            "Epoch 11/100\n",
            "8/8 [==============================] - 22s 3s/step - loss: 0.4764 - accuracy: 0.7608 - val_loss: 1.1186 - val_accuracy: 0.5195\n",
            "Epoch 12/100\n",
            "8/8 [==============================] - 19s 2s/step - loss: 0.6050 - accuracy: 0.7152 - val_loss: 1.0181 - val_accuracy: 0.5078\n",
            "Epoch 13/100\n",
            "8/8 [==============================] - 19s 2s/step - loss: 0.5486 - accuracy: 0.7275 - val_loss: 1.0611 - val_accuracy: 0.5156\n",
            "Epoch 14/100\n",
            "8/8 [==============================] - 19s 2s/step - loss: 0.5125 - accuracy: 0.7942 - val_loss: 1.1042 - val_accuracy: 0.5547\n",
            "Epoch 15/100\n",
            "8/8 [==============================] - 19s 2s/step - loss: 0.4402 - accuracy: 0.8120 - val_loss: 1.0312 - val_accuracy: 0.5625\n",
            "Epoch 16/100\n",
            "8/8 [==============================] - 19s 2s/step - loss: 0.4615 - accuracy: 0.7898 - val_loss: 1.0274 - val_accuracy: 0.5664\n",
            "Epoch 17/100\n",
            "8/8 [==============================] - 19s 2s/step - loss: 0.5227 - accuracy: 0.7597 - val_loss: 1.0729 - val_accuracy: 0.5625\n",
            "Epoch 18/100\n",
            "8/8 [==============================] - 19s 2s/step - loss: 0.4129 - accuracy: 0.8187 - val_loss: 1.7678 - val_accuracy: 0.5156\n",
            "Epoch 19/100\n",
            "8/8 [==============================] - 21s 3s/step - loss: 0.4391 - accuracy: 0.7871 - val_loss: 1.0133 - val_accuracy: 0.6133\n",
            "Epoch 20/100\n",
            "8/8 [==============================] - 22s 3s/step - loss: 0.5751 - accuracy: 0.7519 - val_loss: 1.0194 - val_accuracy: 0.6094\n",
            "Epoch 21/100\n",
            "8/8 [==============================] - 19s 2s/step - loss: 0.4291 - accuracy: 0.8120 - val_loss: 1.0787 - val_accuracy: 0.5820\n",
            "Epoch 22/100\n",
            "8/8 [==============================] - 19s 2s/step - loss: 0.4601 - accuracy: 0.7731 - val_loss: 1.0045 - val_accuracy: 0.6172\n",
            "Epoch 23/100\n",
            "8/8 [==============================] - 19s 2s/step - loss: 0.4837 - accuracy: 0.7820 - val_loss: 1.1238 - val_accuracy: 0.5703\n",
            "Epoch 24/100\n",
            "8/8 [==============================] - 19s 2s/step - loss: 0.3927 - accuracy: 0.8209 - val_loss: 1.0647 - val_accuracy: 0.6211\n",
            "Epoch 25/100\n",
            "8/8 [==============================] - 19s 2s/step - loss: 0.3694 - accuracy: 0.8220 - val_loss: 1.4656 - val_accuracy: 0.5703\n",
            "Epoch 26/100\n",
            "8/8 [==============================] - 19s 2s/step - loss: 0.4562 - accuracy: 0.8365 - val_loss: 1.1949 - val_accuracy: 0.5938\n",
            "Epoch 27/100\n",
            "8/8 [==============================] - 19s 2s/step - loss: 0.3741 - accuracy: 0.8242 - val_loss: 0.7672 - val_accuracy: 0.7148\n",
            "Epoch 28/100\n",
            "8/8 [==============================] - 21s 3s/step - loss: 0.3710 - accuracy: 0.8457 - val_loss: 1.5241 - val_accuracy: 0.5312\n",
            "Epoch 29/100\n",
            "8/8 [==============================] - 22s 3s/step - loss: 0.4524 - accuracy: 0.7909 - val_loss: 1.3582 - val_accuracy: 0.6055\n",
            "Epoch 30/100\n",
            "8/8 [==============================] - 19s 2s/step - loss: 0.3234 - accuracy: 0.8587 - val_loss: 1.4477 - val_accuracy: 0.6055\n",
            "Epoch 31/100\n",
            "8/8 [==============================] - 19s 2s/step - loss: 0.4068 - accuracy: 0.8287 - val_loss: 1.2084 - val_accuracy: 0.6523\n",
            "Epoch 32/100\n",
            "8/8 [==============================] - 19s 2s/step - loss: 0.3261 - accuracy: 0.8387 - val_loss: 1.2110 - val_accuracy: 0.6367\n",
            "Epoch 33/100\n",
            "8/8 [==============================] - 19s 2s/step - loss: 0.3482 - accuracy: 0.8543 - val_loss: 1.2812 - val_accuracy: 0.6328\n",
            "Epoch 34/100\n",
            "8/8 [==============================] - 19s 2s/step - loss: 0.3236 - accuracy: 0.8576 - val_loss: 1.3068 - val_accuracy: 0.6406\n",
            "Epoch 35/100\n",
            "8/8 [==============================] - 19s 2s/step - loss: 0.3386 - accuracy: 0.8432 - val_loss: 1.6530 - val_accuracy: 0.5547\n",
            "Epoch 36/100\n",
            "8/8 [==============================] - 19s 2s/step - loss: 0.3323 - accuracy: 0.8665 - val_loss: 1.8224 - val_accuracy: 0.5977\n",
            "Epoch 37/100\n",
            "8/8 [==============================] - 22s 3s/step - loss: 0.3626 - accuracy: 0.8369 - val_loss: 1.2448 - val_accuracy: 0.6328\n",
            "Epoch 38/100\n",
            "8/8 [==============================] - 22s 3s/step - loss: 0.2906 - accuracy: 0.8632 - val_loss: 1.6125 - val_accuracy: 0.6055\n",
            "Epoch 39/100\n",
            "8/8 [==============================] - 19s 2s/step - loss: 0.4892 - accuracy: 0.8198 - val_loss: 1.5381 - val_accuracy: 0.5625\n",
            "Epoch 40/100\n",
            "8/8 [==============================] - 19s 2s/step - loss: 0.2980 - accuracy: 0.8598 - val_loss: 1.2558 - val_accuracy: 0.6719\n",
            "Epoch 41/100\n",
            "8/8 [==============================] - 20s 2s/step - loss: 0.3021 - accuracy: 0.8554 - val_loss: 1.7094 - val_accuracy: 0.5742\n",
            "Epoch 42/100\n",
            "8/8 [==============================] - 19s 2s/step - loss: 0.2470 - accuracy: 0.8877 - val_loss: 2.2020 - val_accuracy: 0.5391\n",
            "Epoch 43/100\n",
            "8/8 [==============================] - 19s 2s/step - loss: 0.3577 - accuracy: 0.8676 - val_loss: 1.7034 - val_accuracy: 0.6133\n",
            "Epoch 44/100\n",
            "8/8 [==============================] - 19s 2s/step - loss: 0.3187 - accuracy: 0.8821 - val_loss: 1.1594 - val_accuracy: 0.6484\n",
            "Epoch 45/100\n",
            "8/8 [==============================] - 19s 2s/step - loss: 0.2961 - accuracy: 0.8776 - val_loss: 0.5885 - val_accuracy: 0.7969\n",
            "Epoch 46/100\n",
            "8/8 [==============================] - 21s 3s/step - loss: 0.2834 - accuracy: 0.8711 - val_loss: 1.9301 - val_accuracy: 0.6094\n",
            "Epoch 47/100\n",
            "8/8 [==============================] - 22s 3s/step - loss: 0.3489 - accuracy: 0.8365 - val_loss: 2.0322 - val_accuracy: 0.5586\n",
            "Epoch 48/100\n",
            "8/8 [==============================] - 19s 2s/step - loss: 0.4544 - accuracy: 0.8554 - val_loss: 1.5507 - val_accuracy: 0.6211\n",
            "Epoch 49/100\n",
            "8/8 [==============================] - 19s 2s/step - loss: 0.2435 - accuracy: 0.8932 - val_loss: 1.4705 - val_accuracy: 0.6367\n",
            "Epoch 50/100\n",
            "8/8 [==============================] - 19s 2s/step - loss: 0.4376 - accuracy: 0.8621 - val_loss: 1.6266 - val_accuracy: 0.6016\n",
            "Epoch 51/100\n",
            "8/8 [==============================] - 19s 2s/step - loss: 0.2402 - accuracy: 0.9110 - val_loss: 1.7148 - val_accuracy: 0.6094\n",
            "Epoch 52/100\n",
            "8/8 [==============================] - 19s 2s/step - loss: 0.2475 - accuracy: 0.8832 - val_loss: 1.3519 - val_accuracy: 0.6328\n",
            "Epoch 53/100\n",
            "8/8 [==============================] - 19s 2s/step - loss: 0.2435 - accuracy: 0.9066 - val_loss: 1.6918 - val_accuracy: 0.6406\n",
            "Epoch 54/100\n",
            "8/8 [==============================] - 19s 2s/step - loss: 0.2562 - accuracy: 0.8765 - val_loss: 1.7619 - val_accuracy: 0.6016\n",
            "Epoch 55/100\n",
            "8/8 [==============================] - 22s 3s/step - loss: 0.2601 - accuracy: 0.8887 - val_loss: 4.1659 - val_accuracy: 0.4961\n",
            "Epoch 56/100\n",
            "8/8 [==============================] - 22s 3s/step - loss: 0.3762 - accuracy: 0.8865 - val_loss: 2.0049 - val_accuracy: 0.5742\n",
            "Epoch 57/100\n",
            "8/8 [==============================] - 19s 2s/step - loss: 0.3007 - accuracy: 0.8865 - val_loss: 1.5152 - val_accuracy: 0.6328\n",
            "Epoch 58/100\n",
            "8/8 [==============================] - 19s 2s/step - loss: 0.2760 - accuracy: 0.8899 - val_loss: 2.3488 - val_accuracy: 0.5586\n",
            "Epoch 59/100\n",
            "8/8 [==============================] - 19s 2s/step - loss: 0.1844 - accuracy: 0.9277 - val_loss: 2.0300 - val_accuracy: 0.6133\n",
            "Epoch 60/100\n",
            "8/8 [==============================] - 19s 2s/step - loss: 0.3009 - accuracy: 0.8921 - val_loss: 2.4722 - val_accuracy: 0.5898\n",
            "Epoch 61/100\n",
            "8/8 [==============================] - 19s 2s/step - loss: 0.2681 - accuracy: 0.8843 - val_loss: 1.8379 - val_accuracy: 0.6016\n",
            "Epoch 62/100\n",
            "8/8 [==============================] - 19s 2s/step - loss: 0.1862 - accuracy: 0.9143 - val_loss: 3.0619 - val_accuracy: 0.5234\n",
            "Epoch 63/100\n",
            "8/8 [==============================] - 19s 2s/step - loss: 0.2415 - accuracy: 0.9221 - val_loss: 4.6722 - val_accuracy: 0.5430\n",
            "Epoch 64/100\n",
            "8/8 [==============================] - 21s 3s/step - loss: 0.2620 - accuracy: 0.8965 - val_loss: 2.0830 - val_accuracy: 0.6367\n",
            "Epoch 65/100\n",
            "8/8 [==============================] - 22s 3s/step - loss: 0.3123 - accuracy: 0.8821 - val_loss: 1.9781 - val_accuracy: 0.6172\n",
            "Epoch 66/100\n",
            "8/8 [==============================] - 19s 2s/step - loss: 0.1833 - accuracy: 0.9255 - val_loss: 1.3608 - val_accuracy: 0.6758\n",
            "Epoch 67/100\n",
            "8/8 [==============================] - 19s 2s/step - loss: 0.3300 - accuracy: 0.8754 - val_loss: 1.4812 - val_accuracy: 0.6641\n",
            "Epoch 68/100\n",
            "8/8 [==============================] - 19s 2s/step - loss: 0.2693 - accuracy: 0.8954 - val_loss: 1.7806 - val_accuracy: 0.6523\n",
            "Epoch 69/100\n",
            "8/8 [==============================] - 19s 2s/step - loss: 0.2283 - accuracy: 0.9088 - val_loss: 2.0043 - val_accuracy: 0.6133\n",
            "Epoch 70/100\n",
            "8/8 [==============================] - 20s 2s/step - loss: 0.2507 - accuracy: 0.8910 - val_loss: 1.5487 - val_accuracy: 0.6367\n",
            "Epoch 71/100\n",
            "8/8 [==============================] - 20s 2s/step - loss: 0.2157 - accuracy: 0.9121 - val_loss: 0.9049 - val_accuracy: 0.7422\n",
            "Epoch 72/100\n",
            "8/8 [==============================] - 19s 2s/step - loss: 0.2511 - accuracy: 0.9088 - val_loss: 4.8054 - val_accuracy: 0.5234\n",
            "Epoch 73/100\n",
            "8/8 [==============================] - 22s 3s/step - loss: 0.2637 - accuracy: 0.8994 - val_loss: 1.8234 - val_accuracy: 0.6406\n",
            "Epoch 74/100\n",
            "8/8 [==============================] - 23s 3s/step - loss: 0.2597 - accuracy: 0.9132 - val_loss: 1.9168 - val_accuracy: 0.6289\n",
            "Epoch 75/100\n",
            "8/8 [==============================] - 19s 2s/step - loss: 0.1859 - accuracy: 0.9155 - val_loss: 2.8137 - val_accuracy: 0.5234\n",
            "Epoch 76/100\n",
            "8/8 [==============================] - 19s 2s/step - loss: 0.2016 - accuracy: 0.9021 - val_loss: 1.8210 - val_accuracy: 0.6289\n",
            "Epoch 77/100\n",
            "8/8 [==============================] - 20s 2s/step - loss: 0.1924 - accuracy: 0.9244 - val_loss: 3.2097 - val_accuracy: 0.5352\n",
            "Epoch 78/100\n",
            "8/8 [==============================] - 20s 2s/step - loss: 0.1857 - accuracy: 0.9166 - val_loss: 2.7569 - val_accuracy: 0.5898\n",
            "Epoch 79/100\n",
            "8/8 [==============================] - 19s 2s/step - loss: 0.1677 - accuracy: 0.9099 - val_loss: 1.9858 - val_accuracy: 0.5898\n",
            "Epoch 80/100\n",
            "8/8 [==============================] - 20s 2s/step - loss: 0.1877 - accuracy: 0.9088 - val_loss: 2.3344 - val_accuracy: 0.6367\n",
            "Epoch 81/100\n",
            "8/8 [==============================] - 20s 2s/step - loss: 0.1618 - accuracy: 0.9299 - val_loss: 1.3361 - val_accuracy: 0.6953\n",
            "Epoch 82/100\n",
            "8/8 [==============================] - 22s 3s/step - loss: 0.1895 - accuracy: 0.9316 - val_loss: 2.0943 - val_accuracy: 0.6211\n",
            "Epoch 83/100\n",
            "8/8 [==============================] - 23s 3s/step - loss: 0.1518 - accuracy: 0.9366 - val_loss: 4.3445 - val_accuracy: 0.4922\n",
            "Epoch 84/100\n",
            "8/8 [==============================] - 20s 2s/step - loss: 0.1958 - accuracy: 0.9066 - val_loss: 1.7567 - val_accuracy: 0.6523\n",
            "Epoch 85/100\n",
            "8/8 [==============================] - 19s 2s/step - loss: 0.1607 - accuracy: 0.9277 - val_loss: 1.9060 - val_accuracy: 0.6445\n",
            "Epoch 86/100\n",
            "8/8 [==============================] - 19s 2s/step - loss: 0.2091 - accuracy: 0.9210 - val_loss: 1.7905 - val_accuracy: 0.6484\n",
            "Epoch 87/100\n",
            "8/8 [==============================] - 19s 2s/step - loss: 0.2125 - accuracy: 0.9143 - val_loss: 1.7654 - val_accuracy: 0.6367\n",
            "Epoch 88/100\n",
            "8/8 [==============================] - 19s 2s/step - loss: 0.1434 - accuracy: 0.9344 - val_loss: 3.2091 - val_accuracy: 0.5391\n",
            "Epoch 89/100\n",
            "8/8 [==============================] - 19s 2s/step - loss: 0.2164 - accuracy: 0.9099 - val_loss: 1.0901 - val_accuracy: 0.7070\n",
            "Epoch 90/100\n",
            "8/8 [==============================] - 19s 2s/step - loss: 0.1408 - accuracy: 0.9333 - val_loss: 1.7705 - val_accuracy: 0.6758\n",
            "Epoch 91/100\n",
            "8/8 [==============================] - 22s 3s/step - loss: 0.1795 - accuracy: 0.9326 - val_loss: 1.5878 - val_accuracy: 0.6641\n",
            "Epoch 92/100\n",
            "8/8 [==============================] - 22s 3s/step - loss: 0.1899 - accuracy: 0.9255 - val_loss: 1.7883 - val_accuracy: 0.6836\n",
            "Epoch 93/100\n",
            "8/8 [==============================] - 19s 2s/step - loss: 0.2573 - accuracy: 0.9388 - val_loss: 1.2784 - val_accuracy: 0.7148\n",
            "Epoch 94/100\n",
            "8/8 [==============================] - 19s 2s/step - loss: 0.1367 - accuracy: 0.9433 - val_loss: 2.4580 - val_accuracy: 0.6289\n",
            "Epoch 95/100\n",
            "8/8 [==============================] - 19s 2s/step - loss: 0.1766 - accuracy: 0.9221 - val_loss: 2.3902 - val_accuracy: 0.5977\n",
            "Epoch 96/100\n",
            "8/8 [==============================] - 20s 2s/step - loss: 0.1320 - accuracy: 0.9444 - val_loss: 3.5520 - val_accuracy: 0.5508\n",
            "Epoch 97/100\n",
            "8/8 [==============================] - 19s 2s/step - loss: 0.2025 - accuracy: 0.9155 - val_loss: 1.7328 - val_accuracy: 0.6680\n",
            "Epoch 98/100\n",
            "8/8 [==============================] - 20s 2s/step - loss: 0.1322 - accuracy: 0.9433 - val_loss: 2.3263 - val_accuracy: 0.6211\n",
            "Epoch 99/100\n",
            "8/8 [==============================] - 19s 2s/step - loss: 0.1684 - accuracy: 0.9288 - val_loss: 0.7128 - val_accuracy: 0.8164\n",
            "Epoch 100/100\n",
            "8/8 [==============================] - 22s 3s/step - loss: 0.1759 - accuracy: 0.9307 - val_loss: 2.2775 - val_accuracy: 0.6133\n"
          ],
          "name": "stdout"
        }
      ]
    },
    {
      "cell_type": "code",
      "metadata": {
        "colab_type": "code",
        "id": "7zNPRWOVJdOH",
        "outputId": "c9e45d5c-9834-433b-a4b1-c22aa22a12b4",
        "colab": {
          "base_uri": "https://localhost:8080/",
          "height": 545
        }
      },
      "source": [
        "import matplotlib.pyplot as plt\n",
        "acc = history.history['accuracy']\n",
        "val_acc = history.history['val_accuracy']\n",
        "loss = history.history['loss']\n",
        "val_loss = history.history['val_loss']\n",
        "\n",
        "epochs = range(len(acc))\n",
        "\n",
        "plt.plot(epochs, acc, 'r', label='Training accuracy')\n",
        "plt.plot(epochs, val_acc, 'b', label='Validation accuracy')\n",
        "plt.title('Training and validation accuracy')\n",
        "\n",
        "plt.figure()\n",
        "\n",
        "plt.plot(epochs, loss, 'r', label='Training Loss')\n",
        "plt.plot(epochs, val_loss, 'b', label='Validation Loss')\n",
        "plt.title('Training and validation loss')\n",
        "plt.legend()\n",
        "\n",
        "plt.show()"
      ],
      "execution_count": 0,
      "outputs": [
        {
          "output_type": "display_data",
          "data": {
            "image/png": "[encoded data removed]",
            "text/plain": [
              "<Figure size 432x288 with 1 Axes>"
            ]
          },
          "metadata": {
            "tags": [],
            "needs_background": "light"
          }
        },
        {
          "output_type": "display_data",
          "data": {
            "image/png": "[encoded data removed]",
            "text/plain": [
              "<Figure size 432x288 with 1 Axes>"
            ]
          },
          "metadata": {
            "tags": [],
            "needs_background": "light"
          }
        }
      ]
    },
    {
      "cell_type": "code",
      "metadata": {
        "id": "aMhOpgZzMHui",
        "colab_type": "code",
        "colab": {}
      },
      "source": [
        ""
      ],
      "execution_count": 0,
      "outputs": []
    }
  ]
}